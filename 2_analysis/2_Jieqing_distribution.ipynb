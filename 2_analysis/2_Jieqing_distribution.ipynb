{
 "cells": [
  {
   "cell_type": "code",
   "execution_count": null,
   "metadata": {
    "collapsed": true
   },
   "outputs": [],
   "source": [
    "path = r\"C:\\Users\\12433\\Desktop\\2_affiliationID_authorEnglishNameSorted_minYear_awardYear_academicAge.txt\""
   ]
  },
  {
   "cell_type": "code",
   "execution_count": 5,
   "metadata": {},
   "outputs": [],
   "source": [
    "\n",
    "affiliationID_authorEnglishNameSorted_minYear_awardYear_academicAge = []\n",
    "with open(path, 'r', encoding='utf-8') as f:\n",
    "    for line in f:\n",
    "        line = line.strip()\n",
    "        line = line.split('\\t')\n",
    "        affiliationID_authorEnglishNameSorted_minYear_awardYear_academicAge.append(line)\n",
    "\n",
    "DICT_academicAge_cnt = dict()\n",
    "for affiliationID_authorEnglishNameSorted_minYear_awardYear_academicAge_i in affiliationID_authorEnglishNameSorted_minYear_awardYear_academicAge:\n",
    "    if int(affiliationID_authorEnglishNameSorted_minYear_awardYear_academicAge_i[4]) not in DICT_academicAge_cnt.keys():\n",
    "        DICT_academicAge_cnt[int(affiliationID_authorEnglishNameSorted_minYear_awardYear_academicAge_i[4])] = 1\n",
    "    else:\n",
    "        DICT_academicAge_cnt[int(affiliationID_authorEnglishNameSorted_minYear_awardYear_academicAge_i[4])] += 1\n",
    "\n"
   ]
  },
  {
   "cell_type": "code",
   "execution_count": 6,
   "metadata": {},
   "outputs": [
    {
     "name": "stdout",
     "output_type": "stream",
     "text": [
      "{6: 92, 11: 127, 34: 2, 2: 44, 23: 9, 5: 61, 7: 93, 10: 109, 22: 11, 8: 105, 9: 115, 3: 64, 28: 3, 14: 73, 0: 31, 13: 84, 21: 9, 4: 70, 19: 18, 30: 2, 15: 56, 16: 49, 12: 111, 20: 15, 1: 36, 26: 5, 17: 36, 90: 1, 18: 29, 96: 1, 93: 1, 24: 6, 25: 2, 35: 1, 27: 2, 40: 1, 47: 1, 95: 1, 102: 1}\n"
     ]
    }
   ],
   "source": [
    "print(DICT_academicAge_cnt)"
   ]
  },
  {
   "cell_type": "code",
   "execution_count": 7,
   "metadata": {},
   "outputs": [],
   "source": [
    "academicAge_cnt = sorted(DICT_academicAge_cnt.items(), key=lambda x: x[0])"
   ]
  },
  {
   "cell_type": "code",
   "execution_count": 12,
   "metadata": {
    "collapsed": false
   },
   "outputs": [
    {
     "name": "stdout",
     "output_type": "stream",
     "text": [
      "0\t31\n1\t36\n2\t44\n3\t64\n4\t70\n5\t61\n6\t92\n7\t93\n8\t105\n9\t115\n10\t109\n11\t127\n12\t111\n13\t84\n14\t73\n15\t56\n16\t49\n17\t36\n18\t29\n19\t18\n20\t15\n21\t9\n22\t11\n23\t9\n24\t6\n25\t2\n26\t5\n27\t2\n28\t3\n30\t2\n34\t2\n35\t1\n40\t1\n47\t1\n90\t1\n93\t1\n95\t1\n96\t1\n102\t1\n"
     ]
    }
   ],
   "source": [
    "for academicAge, cnt in academicAge_cnt:\n",
    "    print(academicAge, cnt, sep='\\t')"
   ]
  },
  {
   "cell_type": "code",
   "execution_count": null,
   "metadata": {},
   "outputs": [],
   "source": []
  }
 ],
 "metadata": {
  "kernelspec": {
   "display_name": "Python 2",
   "language": "python",
   "name": "python2"
  },
  "language_info": {
   "codemirror_mode": {
    "name": "ipython",
    "version": 2
   },
   "file_extension": ".py",
   "mimetype": "text/x-python",
   "name": "python",
   "nbconvert_exporter": "python",
   "pygments_lexer": "ipython2",
   "version": "2.7.6"
  }
 },
 "nbformat": 4,
 "nbformat_minor": 0
}
